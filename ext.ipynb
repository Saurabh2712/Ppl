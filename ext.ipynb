{
 "cells": [
  {
   "cell_type": "code",
   "execution_count": 1,
   "id": "faec228a-d591-403f-b25d-108def27fb24",
   "metadata": {},
   "outputs": [
    {
     "name": "stdout",
     "output_type": "stream",
     "text": [
      "Shortest Route: 10\n",
      "Longest Route: 90\n",
      "Total Distance: 291\n"
     ]
    }
   ],
   "source": [
    "def routess(distances):\n",
    "    if not distances:\n",
    "        print(\"No distances provided.\")\n",
    "        return\n",
    "\n",
    "    shortest_route = min(distances)\n",
    "    longest_route = max(distances)\n",
    "    \n",
    "    total_distance = sum(distances)\n",
    "    \n",
    "    print(\"Shortest Route:\", shortest_route)\n",
    "    print(\"Longest Route:\", longest_route)\n",
    "    print(\"Total Distance:\", total_distance)\n",
    "\n",
    "routes = [15, 43, 78, 21, 34, 90, 10]\n",
    "\n",
    "routess(routes)"
   ]
  },
  {
   "cell_type": "code",
   "execution_count": 2,
   "id": "527ebd69-602a-4cfa-ae5c-3a1e6e5377a7",
   "metadata": {},
   "outputs": [
    {
     "name": "stdout",
     "output_type": "stream",
     "text": [
      "Shortest Route: 10\n",
      "Longest Route: 90\n",
      "Total Distance: 291\n"
     ]
    }
   ],
   "source": [
    "def routess(distances):\n",
    "    if not distances: \n",
    "        print(\"No distances provided.\")\n",
    "        return\n",
    "\n",
    "    shortest_route = distances[0]  \n",
    "    longest_route = distances[0]   \n",
    "    total_distance = 0             \n",
    "\n",
    "    for distance in distances:\n",
    "        if distance < shortest_route:\n",
    "            shortest_route = distance\n",
    "        \n",
    "        if distance > longest_route:\n",
    "            longest_route = distance\n",
    "        \n",
    "        total_distance += distance\n",
    "\n",
    "    print(\"Shortest Route:\", shortest_route)\n",
    "    print(\"Longest Route:\", longest_route)\n",
    "    print(\"Total Distance:\", total_distance)\n",
    "\n",
    "routes = [15, 43, 78, 21, 34, 90, 10]\n",
    "\n",
    "routess(routes)\n"
   ]
  },
  {
   "cell_type": "code",
   "execution_count": 3,
   "id": "7cd3bf99-6849-4aca-a3a3-de03fe9decdf",
   "metadata": {},
   "outputs": [
    {
     "name": "stdin",
     "output_type": "stream",
     "text": [
      "Enter a string with mixed numbers and letters:  ddtgbfgbt\n"
     ]
    },
    {
     "name": "stdout",
     "output_type": "stream",
     "text": [
      "Extracted Letters: ddtgbfgbt\n"
     ]
    }
   ],
   "source": [
    "# Program to extract letters from a string with mixed numbers and letters\n",
    "\n",
    "def extract_letters(input_string):\n",
    "    letters = ''.join([char for char in input_string if char.isalpha()])\n",
    "    return letters\n",
    "\n",
    "# User input\n",
    "user_input = input(\"Enter a string with mixed numbers and letters: \")\n",
    "\n",
    "# Extract and print letters\n",
    "result = extract_letters(user_input)\n",
    "print(\"Extracted Letters:\", result)\n"
   ]
  },
  {
   "cell_type": "code",
   "execution_count": 7,
   "id": "feb02c4d-eaa7-41da-991f-29f301df776c",
   "metadata": {},
   "outputs": [
    {
     "name": "stdout",
     "output_type": "stream",
     "text": [
      "Word frequency has been written to C:/Users/Admin/Desktop/word_counts.txt\n"
     ]
    }
   ],
   "source": [
    "def count_word_frequency(input_file, output_file):\n",
    "    word_freq = {}\n",
    "    \n",
    "    with open(input_file, 'r') as file:\n",
    "        for line in file:\n",
    "            words = line.strip().replace('.', '').replace(',', '').split()\n",
    "            for word in words:\n",
    "                word = word.lower()\n",
    "                word_freq[word] = word_freq.get(word, 0) + 1\n",
    "    \n",
    "    with open(output_file, 'w') as out_file:\n",
    "        for word in sorted(word_freq):\n",
    "            out_file.write(f\"{word}: {word_freq[word]}\\n\")\n",
    "    \n",
    "    print(f\"Word frequency has been written to {output_file}\")\n",
    "\n",
    "input_file = 'C:/Users/Admin/Desktop/input.txt' \n",
    "output_file = 'C:/Users/Admin/Desktop/word_counts.txt'\n",
    "\n",
    "count_word_frequency(input_file, output_file)\n"
   ]
  },
  {
   "cell_type": "code",
   "execution_count": null,
   "id": "dfd710e8-db3a-4671-899b-65df5a99b1c2",
   "metadata": {},
   "outputs": [],
   "source": []
  }
 ],
 "metadata": {
  "kernelspec": {
   "display_name": "Python 3 (ipykernel)",
   "language": "python",
   "name": "python3"
  },
  "language_info": {
   "codemirror_mode": {
    "name": "ipython",
    "version": 3
   },
   "file_extension": ".py",
   "mimetype": "text/x-python",
   "name": "python",
   "nbconvert_exporter": "python",
   "pygments_lexer": "ipython3",
   "version": "3.12.4"
  }
 },
 "nbformat": 4,
 "nbformat_minor": 5
}
